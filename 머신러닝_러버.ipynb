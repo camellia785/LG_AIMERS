{
 "cells": [
  {
   "cell_type": "code",
   "execution_count": 1,
   "metadata": {},
   "outputs": [
    {
     "data": {
      "text/plain": [
       "device(type='cuda')"
      ]
     },
     "execution_count": 1,
     "metadata": {},
     "output_type": "execute_result"
    }
   ],
   "source": [
    "import torch\n",
    "from torch.utils.data import Dataset\n",
    "import numpy as np\n",
    "from torch.utils.data import DataLoader\n",
    "import torch.nn as nn\n",
    "import pandas as pd\n",
    "from tqdm import tqdm\n",
    "import pandas as pd\n",
    "import itertools\n",
    "import lightgbm as lgb\n",
    "from joblib import Parallel, delayed\n",
    "device = torch.device('cuda' if torch.cuda.is_available() else 'cpu')\n",
    "device"
   ]
  },
  {
   "cell_type": "code",
   "execution_count": 2,
   "metadata": {},
   "outputs": [],
   "source": [
    "import pandas as pd\n",
    "train_df = pd.read_csv('train.csv')\n",
    "submit = pd.read_csv('sample_submission.csv')\n",
    "brand_keyword_data = pd.read_csv('brand_keyword_cnt.csv')"
   ]
  },
  {
   "cell_type": "code",
   "execution_count": null,
   "metadata": {},
   "outputs": [],
   "source": [
    "###########################################################################\n",
    "###########################################################################\n",
    "###########################################################################\n",
    "###############################피처엔지니어링###############################\n",
    "###########################################################################\n",
    "###########################################################################\n",
    "###########################################################################"
   ]
  },
  {
   "cell_type": "code",
   "execution_count": 8,
   "metadata": {},
   "outputs": [
    {
     "name": "stderr",
     "output_type": "stream",
     "text": [
      "Processing unique product IDs:  10%|▉         | 1560/15890 [00:52<07:57, 30.04it/s]"
     ]
    }
   ],
   "source": [
    "###########################################################################\n",
    "###########################################################################\n",
    "###########################################################################\n",
    "###############################타겟값 만들기################################\n",
    "###########################################################################\n",
    "###########################################################################\n",
    "###########################################################################\n",
    "\n",
    "def Make_Target(product_id, product_data):\n",
    "    product_features = []\n",
    "    for i in range(len(product_data) - 28):\n",
    "        features = {\n",
    "            'ID': product_id,\n",
    "        }\n",
    "        future_21_day_sales = product_data['sales'].iloc[i+28:i+49].values\n",
    "        for j, target in enumerate(future_21_day_sales, start=1):\n",
    "            features[f'target_{j}'] = target\n",
    "        product_features.append(features)\n",
    "    return product_features\n",
    "def create_features_for_single_day(product_data):\n",
    "    window_data = product_data.iloc[-28:]\n",
    "    features = {\n",
    "    }\n",
    "    return features\n",
    "def prepare_train_test_data_per_id(train_data, product_id):\n",
    "    filtered_data = train_data[train_data['ID'] == product_id]\n",
    "    melted_sales_data = filtered_data.melt(id_vars=['ID', '제품', '대분류', '중분류', '소분류', '브랜드'], \n",
    "                                           var_name='date', value_name='sales')\n",
    "    melted_sales_data['date'] = pd.to_datetime(melted_sales_data['date'])\n",
    "    product_features = Make_Target(product_id, melted_sales_data[melted_sales_data['date'] < '2023-04-04'])\n",
    "    train_df_id = pd.DataFrame(product_features)\n",
    "    train_df_id = train_df_id.merge(filtered_data[['ID', '제품', '대분류', '중분류', '소분류', '브랜드']].drop_duplicates(), on='ID', how='left')\n",
    "    window_data = melted_sales_data.iloc[-28:]\n",
    "    single_day_features = create_features_for_single_day(window_data)\n",
    "    single_day_features['ID'] = product_id\n",
    "    single_day_features['date'] = '2023-04-04'\n",
    "    test_df_id = pd.DataFrame([single_day_features])\n",
    "    test_df_id = test_df_id.merge(filtered_data[['ID', '제품', '대분류', '중분류', '소분류', '브랜드']].drop_duplicates(), on='ID', how='left')\n",
    "    return train_df_id, test_df_id\n",
    "def prepare_train_test_data(train_data):\n",
    "    all_train_dfs = []\n",
    "    all_test_dfs = []\n",
    "    for product_id in tqdm(train_data['ID'].unique(), desc='Processing unique product IDs'):\n",
    "        train_df_id, test_df_id = prepare_train_test_data_per_id(train_data, product_id)\n",
    "        all_train_dfs.append(train_df_id)\n",
    "        all_test_dfs.append(test_df_id)\n",
    "    final_train_df = pd.concat(all_train_dfs, ignore_index=True)\n",
    "    final_test_df = pd.concat(all_test_dfs, ignore_index=True)\n",
    "    return final_train_df, final_test_df\n",
    "final_train_df, final_test_df = prepare_train_test_data(train_df)"
   ]
  },
  {
   "cell_type": "code",
   "execution_count": null,
   "metadata": {},
   "outputs": [
    {
     "data": {
      "application/json": {
       "ascii": false,
       "bar_format": null,
       "colour": null,
       "elapsed": 0.008007287979125977,
       "initial": 0,
       "n": 0,
       "ncols": null,
       "nrows": null,
       "postfix": null,
       "prefix": "Predicting for each ID",
       "rate": null,
       "total": 15890,
       "unit": "it",
       "unit_divisor": 1000,
       "unit_scale": false
      },
      "application/vnd.jupyter.widget-view+json": {
       "model_id": "9de7d58aa90346daa70f9c36b4397e64",
       "version_major": 2,
       "version_minor": 0
      },
      "text/plain": [
       "Predicting for each ID:   0%|          | 0/15890 [00:00<?, ?it/s]"
      ]
     },
     "metadata": {},
     "output_type": "display_data"
    }
   ],
   "source": [
    "import xgboost as xgb\n",
    "\n",
    "def train_predict_single_id(train_df_id, test_df_id):\n",
    "    predictions_id = []\n",
    "    for i in range(1, 22):\n",
    "        target_column = f'target_{i}'\n",
    "\n",
    "        other_target_columns = [f'target_{j}' for j in range(1, 22) if j != i]\n",
    "        train_features = train_df_id.drop([target_column, 'date'] + other_target_columns, axis=1)\n",
    "        train_target = train_df_id[target_column]\n",
    "\n",
    "        test_features = test_df_id[train_features.columns]\n",
    "\n",
    "        dtrain = xgb.DMatrix(train_features, label=train_target)\n",
    "        params = {\n",
    "            'eval_metric': 'rmse',\n",
    "        }\n",
    "        model = xgb.train(params, dtrain, 100)\n",
    "        dtest = xgb.DMatrix(test_features)\n",
    "        predictions_id.append(model.predict(dtest)[0])\n",
    "\n",
    "    return predictions_id\n",
    "\n",
    "predictions_df = pd.DataFrame(columns=['ID'] + [f'2023-04-{i+5:02d}' for i in range(21)])\n",
    "\n",
    "for unique_id in tqdm(train_df['ID'].unique(), desc='Predicting for each ID'):\n",
    "    train_df_id = final_train_df[final_train_df['ID'] == unique_id]\n",
    "    test_df_id = final_test_df[final_test_df['ID'] == unique_id]\n",
    "    predictions_id = train_predict_single_id(train_df_id, test_df_id)\n",
    "    predictions_df.loc[len(predictions_df)] = [unique_id] + predictions_id\n",
    "\n",
    "final_submission = submit[['ID']].merge(predictions_df, on='ID', how='left')"
   ]
  },
  {
   "cell_type": "code",
   "execution_count": null,
   "metadata": {},
   "outputs": [],
   "source": [
    "final_submission = submit[['ID']].merge(predictions_df, on='ID', how='left')\n",
    "final_submission"
   ]
  },
  {
   "cell_type": "code",
   "execution_count": null,
   "metadata": {},
   "outputs": [],
   "source": [
    "new_columns = [f'2023-04-{i:02d}' for i in range(5, 26)]\n",
    "final_submission.columns = ['ID'] + new_columns\n",
    "final_submission"
   ]
  },
  {
   "cell_type": "code",
   "execution_count": 112,
   "metadata": {},
   "outputs": [],
   "source": [
    "final_submission.to_csv('XGBoost.csv', index=False)"
   ]
  }
 ],
 "metadata": {
  "kernelspec": {
   "display_name": "v1",
   "language": "python",
   "name": "python3"
  },
  "language_info": {
   "codemirror_mode": {
    "name": "ipython",
    "version": 3
   },
   "file_extension": ".py",
   "mimetype": "text/x-python",
   "name": "python",
   "nbconvert_exporter": "python",
   "pygments_lexer": "ipython3",
   "version": "3.8.6"
  },
  "orig_nbformat": 4
 },
 "nbformat": 4,
 "nbformat_minor": 2
}
